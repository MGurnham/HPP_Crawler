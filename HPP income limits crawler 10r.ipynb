{
 "cells": [
  {
   "cell_type": "code",
   "execution_count": 11,
   "id": "432bc948",
   "metadata": {},
   "outputs": [],
   "source": [
    "import requests\n",
    "import json\n",
    "from bs4 import BeautifulSoup\n",
    "import re\n",
    "import pandas as pd"
   ]
  },
  {
   "cell_type": "code",
   "execution_count": 16,
   "id": "72f77f24",
   "metadata": {},
   "outputs": [],
   "source": [
    "#Change this to the path of service manager names csv\n",
    "df = pd.read_csv(\"C:\\\\Users\\\\mt886\\\\OneDrive\\\\Documents\\\\GitHub\\\\HPP_Crawler\\\\smnames.csv\")"
   ]
  },
  {
   "cell_type": "code",
   "execution_count": 17,
   "id": "2ca77669",
   "metadata": {},
   "outputs": [],
   "source": [
    "locations = df['smname'].tolist()"
   ]
  },
  {
   "cell_type": "code",
   "execution_count": null,
   "id": "5c971619",
   "metadata": {},
   "outputs": [],
   "source": [
    "# This code uses serpapi go here to get an acccount https://serpapi.com/ then put your api key in the code below\n",
    "\n",
    "\n",
    "api_key = 'replace this with your api key'"
   ]
  },
  {
   "cell_type": "code",
   "execution_count": 14,
   "id": "f37ecd57",
   "metadata": {},
   "outputs": [],
   "source": [
    "#This code uses serpapi to search google for the terms in the 'query' variable and stores the results in the all_results dictionary\n",
    "\n",
    "#Creates a dictionary to store the results\n",
    "all_results = {}\n",
    "\n",
    "#The num_results variable tells the api how many search results to grab\n",
    "num_results = 10\n",
    "\n",
    "#loops through the list of locations, seraches the query replacing loc with each service manager and stores the links \n",
    "for loc in locations:\n",
    "    url = 'https://serpapi.com/search'\n",
    "\n",
    "    #This is what you want serpapi to search\n",
    "    query = f'{loc} homelessness prevention program income eligibility criteria'\n",
    "\n",
    "    \n",
    "    params = {\n",
    "        'q': query,\n",
    "        'api_key': api_key,\n",
    "        'engine': 'google',\n",
    "        'num': num_results\n",
    "    }\n",
    "\n",
    "    #response stores the information from the search in a json\n",
    "    response = requests.get(url, params=params)\n",
    "\n",
    "    if response.status_code == 200:\n",
    "        #status code 200 means the search was successful then stores the json info in the data variable\n",
    "        data = response.json()\n",
    "        #'organic results' is the element of the data dictionary that contains useful info like the link\n",
    "        results = data.get('organic_results', [])\n",
    "        # Save results to dictionary under the location\n",
    "        all_results[loc] = results\n",
    "    else:\n",
    "        print(f\"Error fetching data for {loc}: {response.status_code}\")\n",
    "        all_results[loc] = []"
   ]
  },
  {
   "cell_type": "code",
   "execution_count": null,
   "id": "148088b9",
   "metadata": {},
   "outputs": [
    {
     "name": "stderr",
     "output_type": "stream",
     "text": [
      "Some characters could not be decoded, and were replaced with REPLACEMENT CHARACTER.\n",
      "Some characters could not be decoded, and were replaced with REPLACEMENT CHARACTER.\n"
     ]
    },
    {
     "name": "stdout",
     "output_type": "stream",
     "text": [
      "Skipping https://www.hudexchange.info/resource/5079/esg-income-limits/ due to request error: 404 Client Error: Not Found for url: https://www.hudexchange.info/resource/5079/esg-income-limits/\n"
     ]
    },
    {
     "name": "stderr",
     "output_type": "stream",
     "text": [
      "Some characters could not be decoded, and were replaced with REPLACEMENT CHARACTER.\n",
      "Some characters could not be decoded, and were replaced with REPLACEMENT CHARACTER.\n",
      "Some characters could not be decoded, and were replaced with REPLACEMENT CHARACTER.\n"
     ]
    },
    {
     "name": "stdout",
     "output_type": "stream",
     "text": [
      "Skipping https://pub-brantford.escribemeetings.com/filestream.ashx?DocumentId=16911 due to request error: 403 Client Error: Forbidden for url: https://pub-brantford.escribemeetings.com/filestream.ashx?DocumentId=16911\n",
      "Skipping https://211ontario.ca/results/?searchLocation=Brantford&searchTerms=&latitude=43.1393867&longitude=-80.2644254&topicPath=64&fpg=sm due to request error: 403 Client Error: Forbidden for url: https://211ontario.ca/results/?searchLocation=Brantford&searchTerms=&latitude=43.1393867&longitude=-80.2644254&topicPath=64&fpg=sm\n",
      "Skipping https://www.hudexchange.info/resource/5079/esg-income-limits/ due to request error: 404 Client Error: Not Found for url: https://www.hudexchange.info/resource/5079/esg-income-limits/\n",
      "Skipping https://www.hudexchange.info/programs/coc/coc-program-eligibility-requirements/ due to request error: 404 Client Error: Not Found for url: https://www.hudexchange.info/programs/coc/coc-program-eligibility-requirements/\n",
      "Skipping https://www.askarcnassau.com/DocumentCenter/View/46501 due to request error: HTTPSConnectionPool(host='www.askarcnassau.com', port=443): Max retries exceeded with url: /DocumentCenter/View/46501 (Caused by ConnectTimeoutError(<urllib3.connection.HTTPSConnection object at 0x0000021ACA786350>, 'Connection to www.askarcnassau.com timed out. (connect timeout=10)'))\n",
      "Skipping https://brucegreycommunityinfo.search211.ca/detail/94034512/middlesex-county-homelessness-prevention-program-hpp/?searchLocation=Newmarket&topicPath=151&pg=17 due to request error: 403 Client Error: Forbidden for url: https://brucegreycommunityinfo.search211.ca/detail/94034512/middlesex-county-homelessness-prevention-program-hpp/?searchLocation=Newmarket&topicPath=151&pg=17\n"
     ]
    },
    {
     "name": "stderr",
     "output_type": "stream",
     "text": [
      "Some characters could not be decoded, and were replaced with REPLACEMENT CHARACTER.\n",
      "Some characters could not be decoded, and were replaced with REPLACEMENT CHARACTER.\n",
      "Some characters could not be decoded, and were replaced with REPLACEMENT CHARACTER.\n",
      "Some characters could not be decoded, and were replaced with REPLACEMENT CHARACTER.\n"
     ]
    },
    {
     "name": "stdout",
     "output_type": "stream",
     "text": [
      "Skipping https://pub-chatham-kent.escribemeetings.com/filestream.ashx?DocumentId=6873 due to request error: 403 Client Error: Forbidden for url: https://pub-chatham-kent.escribemeetings.com/filestream.ashx?DocumentId=6873\n",
      "Skipping https://211ontario.ca/service/71350500/chatham-kent-municipality-of-municipal-services-community-human-services-employment-and-social-services/ due to request error: 403 Client Error: Forbidden for url: https://211ontario.ca/service/71350500/chatham-kent-municipality-of-municipal-services-community-human-services-employment-and-social-services/\n",
      "Skipping https://www.hudexchange.info/resource/5079/esg-income-limits/ due to request error: 404 Client Error: Not Found for url: https://www.hudexchange.info/resource/5079/esg-income-limits/\n"
     ]
    },
    {
     "name": "stderr",
     "output_type": "stream",
     "text": [
      "Some characters could not be decoded, and were replaced with REPLACEMENT CHARACTER.\n"
     ]
    },
    {
     "name": "stdout",
     "output_type": "stream",
     "text": [
      "Skipping https://211ontario.ca/results/?searchLocation=Chatham&searchTerms=&latitude=42.4048018&longitude=-82.1910376&topicPath=112&fpg=sm due to request error: 403 Client Error: Forbidden for url: https://211ontario.ca/results/?searchLocation=Chatham&searchTerms=&latitude=42.4048018&longitude=-82.1910376&topicPath=112&fpg=sm\n",
      "Skipping https://pub-chatham-kent.escribemeetings.com/filestream.ashx?DocumentId=11790 due to request error: 403 Client Error: Forbidden for url: https://pub-chatham-kent.escribemeetings.com/filestream.ashx?DocumentId=11790\n"
     ]
    },
    {
     "name": "stderr",
     "output_type": "stream",
     "text": [
      "Some characters could not be decoded, and were replaced with REPLACEMENT CHARACTER.\n",
      "Some characters could not be decoded, and were replaced with REPLACEMENT CHARACTER.\n",
      "Some characters could not be decoded, and were replaced with REPLACEMENT CHARACTER.\n",
      "Some characters could not be decoded, and were replaced with REPLACEMENT CHARACTER.\n"
     ]
    },
    {
     "name": "stdout",
     "output_type": "stream",
     "text": [
      "Skipping https://dhs.maryland.gov/weathering-tough-times/homelessness-prevention-program/ due to request error: HTTPSConnectionPool(host='dhs.maryland.gov', port=443): Max retries exceeded with url: /weathering-tough-times/homelessness-prevention-program/ (Caused by ConnectTimeoutError(<urllib3.connection.HTTPSConnection object at 0x0000021ACA785F90>, 'Connection to dhs.maryland.gov timed out. (connect timeout=10)'))\n"
     ]
    },
    {
     "name": "stderr",
     "output_type": "stream",
     "text": [
      "Some characters could not be decoded, and were replaced with REPLACEMENT CHARACTER.\n"
     ]
    },
    {
     "name": "stdout",
     "output_type": "stream",
     "text": [
      "Skipping https://www.hudexchange.info/resource/5079/esg-income-limits/ due to request error: 404 Client Error: Not Found for url: https://www.hudexchange.info/resource/5079/esg-income-limits/\n"
     ]
    },
    {
     "name": "stderr",
     "output_type": "stream",
     "text": [
      "Some characters could not be decoded, and were replaced with REPLACEMENT CHARACTER.\n",
      "Some characters could not be decoded, and were replaced with REPLACEMENT CHARACTER.\n"
     ]
    },
    {
     "name": "stdout",
     "output_type": "stream",
     "text": [
      "Skipping https://www.timminspress.com/news/local-news/new-report-outlines-strategies-to-end-homelessness-in-cochrane-district due to request error: 403 Client Error: Forbidden for url: https://www.timminspress.com/news/local-news/new-report-outlines-strategies-to-end-homelessness-in-cochrane-district\n",
      "Skipping https://www.hcd.ca.gov/grants-and-funding/programs-active/homeless-housing-assistance-and-prevention-grant-program due to request error: 403 Client Error: Forbidden for url: https://www.hcd.ca.gov/grants-and-funding/programs-active/homeless-housing-assistance-and-prevention-grant-program\n",
      "Skipping https://211ontario.ca/service/68954531/city-of-cornwall-human-services-dept-housing-programs-homelessness-prevention-program/ due to request error: 403 Client Error: Forbidden for url: https://211ontario.ca/service/68954531/city-of-cornwall-human-services-dept-housing-programs-homelessness-prevention-program/\n",
      "Skipping https://www.hudexchange.info/resource/5079/esg-income-limits/ due to request error: 404 Client Error: Not Found for url: https://www.hudexchange.info/resource/5079/esg-income-limits/\n"
     ]
    },
    {
     "name": "stderr",
     "output_type": "stream",
     "text": [
      "Some characters could not be decoded, and were replaced with REPLACEMENT CHARACTER.\n"
     ]
    },
    {
     "name": "stdout",
     "output_type": "stream",
     "text": [
      "Skipping https://www.hudexchange.info/homelessness-assistance/coc-esg-virtual-binders/coc-esg-homeless-eligibility/four-categories/homeless-eligibility-requirements-by-coc-and-esg-program-model/ due to request error: 404 Client Error: Not Found for url: https://www.hudexchange.info/homelessness-assistance/coc-esg-virtual-binders/coc-esg-homeless-eligibility/four-categories/homeless-eligibility-requirements-by-coc-and-esg-program-model/\n"
     ]
    },
    {
     "name": "stderr",
     "output_type": "stream",
     "text": [
      "Some characters could not be decoded, and were replaced with REPLACEMENT CHARACTER.\n"
     ]
    },
    {
     "name": "stdout",
     "output_type": "stream",
     "text": [
      "Skipping https://www.atlanticcountynj.gov/government/county-departments/department-of-family-and-community-development/homeless-services due to request error: 403 Client Error: Forbidden for url: https://www.atlanticcountynj.gov/government/county-departments/department-of-family-and-community-development/homeless-services\n"
     ]
    },
    {
     "name": "stderr",
     "output_type": "stream",
     "text": [
      "Some characters could not be decoded, and were replaced with REPLACEMENT CHARACTER.\n",
      "Some characters could not be decoded, and were replaced with REPLACEMENT CHARACTER.\n"
     ]
    },
    {
     "name": "stdout",
     "output_type": "stream",
     "text": [
      "Skipping https://www.hcd.ca.gov/sites/default/files/docs/grants-and-funding/esg/cahcd-esg-homelessness-prevention-policy.pdf due to request error: 403 Client Error: Forbidden for url: https://www.hcd.ca.gov/sites/default/files/docs/grants-and-funding/esg/cahcd-esg-homelessness-prevention-policy.pdf\n",
      "Skipping https://211ontario.ca/service/71097001/dufferin-county-of-housing-stability-program/ due to request error: 403 Client Error: Forbidden for url: https://211ontario.ca/service/71097001/dufferin-county-of-housing-stability-program/\n",
      "Skipping https://www.hudexchange.info/resource/5079/esg-income-limits/ due to request error: 404 Client Error: Not Found for url: https://www.hudexchange.info/resource/5079/esg-income-limits/\n",
      "Skipping http://www.dufferincounty.ca/wp-content/uploads/2024/04/Housing-Access-Dufferin-Information-Brochure-2024.pdf due to request error: 403 Client Error: Forbidden for url: http://www.dufferincounty.ca/wp-content/uploads/2024/04/Housing-Access-Dufferin-Information-Brochure-2024.pdf\n"
     ]
    },
    {
     "name": "stderr",
     "output_type": "stream",
     "text": [
      "Some characters could not be decoded, and were replaced with REPLACEMENT CHARACTER.\n"
     ]
    },
    {
     "name": "stdout",
     "output_type": "stream",
     "text": [
      "Skipping https://www.dufferincounty.ca/wp-content/uploads/2024/03/2020-10-Year-Plan-Update.pdf due to request error: 403 Client Error: Forbidden for url: https://www.dufferincounty.ca/wp-content/uploads/2024/03/2020-10-Year-Plan-Update.pdf\n"
     ]
    },
    {
     "name": "stderr",
     "output_type": "stream",
     "text": [
      "Some characters could not be decoded, and were replaced with REPLACEMENT CHARACTER.\n",
      "Some characters could not be decoded, and were replaced with REPLACEMENT CHARACTER.\n",
      "Some characters could not be decoded, and were replaced with REPLACEMENT CHARACTER.\n",
      "Some characters could not be decoded, and were replaced with REPLACEMENT CHARACTER.\n"
     ]
    },
    {
     "name": "stdout",
     "output_type": "stream",
     "text": [
      "Skipping https://www.ncceh.org/media/files/files/2d66c6b7/durham-coordinated-entry-policies-and-procedures-final-1-.pdf due to request error: 403 Client Error: Forbidden for url: https://www.ncceh.org/media/files/files/2d66c6b7/durham-coordinated-entry-policies-and-procedures-final-1-.pdf\n"
     ]
    },
    {
     "name": "stderr",
     "output_type": "stream",
     "text": [
      "Some characters could not be decoded, and were replaced with REPLACEMENT CHARACTER.\n",
      "Some characters could not be decoded, and were replaced with REPLACEMENT CHARACTER.\n"
     ]
    },
    {
     "name": "stdout",
     "output_type": "stream",
     "text": [
      "Skipping https://www.hudexchange.info/resource/5079/esg-income-limits/ due to request error: 404 Client Error: Not Found for url: https://www.hudexchange.info/resource/5079/esg-income-limits/\n",
      "Skipping https://www.hudexchange.info/programs/coc/coc-program-eligibility-requirements/ due to request error: 404 Client Error: Not Found for url: https://www.hudexchange.info/programs/coc/coc-program-eligibility-requirements/\n",
      "Skipping https://www.usich.gov/guidance-reports-data/federal-guidance-resources/homelessness-prevention-series-spotlight-older due to request error: 403 Client Error: Forbidden for url: https://www.usich.gov/guidance-reports-data/federal-guidance-resources/homelessness-prevention-series-spotlight-older\n"
     ]
    },
    {
     "name": "stderr",
     "output_type": "stream",
     "text": [
      "Some characters could not be decoded, and were replaced with REPLACEMENT CHARACTER.\n"
     ]
    },
    {
     "name": "stdout",
     "output_type": "stream",
     "text": [
      "Skipping https://acamweb.org/wp-content/uploads/2020/01/ACAM-HPRP-Outcomes-Report-FINAL-with-Executive-Summary-7-1-13.pdf due to request error: 406 Client Error: Not Acceptable for url: https://acamweb.org/wp-content/uploads/2020/01/ACAM-HPRP-Outcomes-Report-FINAL-with-Executive-Summary-7-1-13.pdf\n",
      "Skipping https://www.cafth.org/wp-content/uploads/2024/10/FY2024-CoC-Nofo_Consolidated-Application_10.25.24_FINAL-DRAFT.pdf due to request error: 406 Client Error: Not Acceptable for url: https://www.cafth.org/wp-content/uploads/2024/10/FY2024-CoC-Nofo_Consolidated-Application_10.25.24_FINAL-DRAFT.pdf\n"
     ]
    },
    {
     "name": "stderr",
     "output_type": "stream",
     "text": [
      "Some characters could not be decoded, and were replaced with REPLACEMENT CHARACTER.\n",
      "Some characters could not be decoded, and were replaced with REPLACEMENT CHARACTER.\n"
     ]
    },
    {
     "name": "stdout",
     "output_type": "stream",
     "text": [
      "Skipping https://www.homelesshub.ca/sites/default/files/attachments/Finalized%20Community%20Plan%20-%20Halton.pdf due to request error: 403 Client Error: Forbidden for url: https://www.homelesshub.ca/sites/default/files/attachments/Finalized%20Community%20Plan%20-%20Halton.pdf\n",
      "Skipping https://www.hudexchange.info/resource/5079/esg-income-limits/ due to request error: 404 Client Error: Not Found for url: https://www.hudexchange.info/resource/5079/esg-income-limits/\n"
     ]
    },
    {
     "name": "stderr",
     "output_type": "stream",
     "text": [
      "Some characters could not be decoded, and were replaced with REPLACEMENT CHARACTER.\n",
      "Some characters could not be decoded, and were replaced with REPLACEMENT CHARACTER.\n"
     ]
    },
    {
     "name": "stdout",
     "output_type": "stream",
     "text": [
      "Skipping https://pub-hamilton.escribemeetings.com/filestream.ashx?DocumentId=328001 due to request error: 403 Client Error: Forbidden for url: https://pub-hamilton.escribemeetings.com/filestream.ashx?DocumentId=328001\n"
     ]
    },
    {
     "name": "stderr",
     "output_type": "stream",
     "text": [
      "Some characters could not be decoded, and were replaced with REPLACEMENT CHARACTER.\n",
      "Some characters could not be decoded, and were replaced with REPLACEMENT CHARACTER.\n",
      "Some characters could not be decoded, and were replaced with REPLACEMENT CHARACTER.\n"
     ]
    },
    {
     "name": "stdout",
     "output_type": "stream",
     "text": [
      "Skipping https://www.hamilton-co.org/common/pages/DisplayFile.aspx?itemId=12541566 due to request error: 404 Client Error: Not Found for url: https://www.hamiltoncountyohio.gov/common/pages/DisplayFile.aspx?itemId=12541566\n"
     ]
    },
    {
     "name": "stderr",
     "output_type": "stream",
     "text": [
      "Some characters could not be decoded, and were replaced with REPLACEMENT CHARACTER.\n",
      "Some characters could not be decoded, and were replaced with REPLACEMENT CHARACTER.\n"
     ]
    },
    {
     "name": "stdout",
     "output_type": "stream",
     "text": [
      "Skipping https://www.hamiltoncountyohio.gov/government/departments/community_development due to request error: 403 Client Error: Forbidden for url: https://www.hamiltoncountyohio.gov/government/departments/community_development/\n"
     ]
    },
    {
     "name": "stderr",
     "output_type": "stream",
     "text": [
      "Some characters could not be decoded, and were replaced with REPLACEMENT CHARACTER.\n"
     ]
    },
    {
     "name": "stdout",
     "output_type": "stream",
     "text": [
      "Skipping https://www.strategiestoendhomelessness.org/wp-content/uploads/RFP-for-County-ARPA-Prevention-funds-FINAL-051923.pdf due to request error: 406 Client Error: Not Acceptable for url: https://www.strategiestoendhomelessness.org/wp-content/uploads/RFP-for-County-ARPA-Prevention-funds-FINAL-051923.pdf\n",
      "Skipping https://www.hastingscounty.com/communities/services/homelessness-prevention due to request error: 403 Client Error: Forbidden for url: https://www.hastingscounty.com/communities/services/homelessness-prevention\n",
      "Skipping https://www.hudexchange.info/resource/5079/esg-income-limits/ due to request error: 404 Client Error: Not Found for url: https://www.hudexchange.info/resource/5079/esg-income-limits/\n",
      "Skipping https://www.hudexchange.info/programs/coc/coc-program-eligibility-requirements/ due to request error: 404 Client Error: Not Found for url: https://www.hudexchange.info/programs/coc/coc-program-eligibility-requirements/\n",
      "Skipping https://hastingscounty.com/communities/supporting-our-communities due to request error: 403 Client Error: Forbidden for url: https://hastingscounty.com/communities/supporting-our-communities\n",
      "Skipping https://211ontario.ca/service/71098547/huron-county-municipal-office-pathways/ due to request error: 403 Client Error: Forbidden for url: https://211ontario.ca/service/71098547/huron-county-municipal-office-pathways/\n"
     ]
    },
    {
     "name": "stderr",
     "output_type": "stream",
     "text": [
      "Some characters could not be decoded, and were replaced with REPLACEMENT CHARACTER.\n"
     ]
    },
    {
     "name": "stdout",
     "output_type": "stream",
     "text": [
      "Skipping https://www.hudexchange.info/resource/5079/esg-income-limits/ due to request error: 404 Client Error: Not Found for url: https://www.hudexchange.info/resource/5079/esg-income-limits/\n"
     ]
    },
    {
     "name": "stderr",
     "output_type": "stream",
     "text": [
      "Some characters could not be decoded, and were replaced with REPLACEMENT CHARACTER.\n"
     ]
    },
    {
     "name": "stdout",
     "output_type": "stream",
     "text": [
      "Skipping https://www.hcd.ca.gov/sites/default/files/docs/grants-and-funding/hpsp-2024-housing-plus-support-program-nofa.pdf due to request error: 403 Client Error: Forbidden for url: https://www.hcd.ca.gov/sites/default/files/docs/grants-and-funding/hpsp-2024-housing-plus-support-program-nofa.pdf\n",
      "Skipping https://www.findhelp.org/housing/public-housing--huron-ca due to request error: 403 Client Error: Forbidden for url: https://www.findhelp.org/housing/public-housing--huron-ca\n"
     ]
    },
    {
     "name": "stderr",
     "output_type": "stream",
     "text": [
      "Some characters could not be decoded, and were replaced with REPLACEMENT CHARACTER.\n",
      "Some characters could not be decoded, and were replaced with REPLACEMENT CHARACTER.\n"
     ]
    },
    {
     "name": "stdout",
     "output_type": "stream",
     "text": [
      "Skipping https://www.hudexchange.info/resource/5079/esg-income-limits/ due to request error: 404 Client Error: Not Found for url: https://www.hudexchange.info/resource/5079/esg-income-limits/\n"
     ]
    },
    {
     "name": "stderr",
     "output_type": "stream",
     "text": [
      "Some characters could not be decoded, and were replaced with REPLACEMENT CHARACTER.\n"
     ]
    },
    {
     "name": "stdout",
     "output_type": "stream",
     "text": [
      "Skipping https://pub-kawarthalakes.escribemeetings.com/filestream.ashx?DocumentId=66453 due to request error: 403 Client Error: Forbidden for url: https://pub-kawarthalakes.escribemeetings.com/filestream.ashx?DocumentId=66453\n",
      "Skipping https://victimsupportdirectory.ca/detail/93004218/general-topics-and-information-central-east-rental-assistance-city-of-kawartha-lakes-and-haliburton-county/ due to request error: 403 Client Error: Forbidden for url: https://victimsupportdirectory.ca/detail/93004218/general-topics-and-information-central-east-rental-assistance-city-of-kawartha-lakes-and-haliburton-county/\n",
      "Skipping https://kdsb.on.ca/our-services/community-housing-services/housing-benefits/ due to request error: 403 Client Error: Forbidden for url: https://kdsb.on.ca/our-services/community-housing-services/housing-benefits/\n"
     ]
    },
    {
     "name": "stderr",
     "output_type": "stream",
     "text": [
      "Some characters could not be decoded, and were replaced with REPLACEMENT CHARACTER.\n"
     ]
    },
    {
     "name": "stdout",
     "output_type": "stream",
     "text": [
      "Skipping https://211ontario.ca/service/65299832/kenora-district-services-board-community-homelessness-prevention-program/ due to request error: 403 Client Error: Forbidden for url: https://211ontario.ca/service/65299832/kenora-district-services-board-community-homelessness-prevention-program/\n"
     ]
    },
    {
     "name": "stderr",
     "output_type": "stream",
     "text": [
      "Some characters could not be decoded, and were replaced with REPLACEMENT CHARACTER.\n",
      "Some characters could not be decoded, and were replaced with REPLACEMENT CHARACTER.\n",
      "Some characters could not be decoded, and were replaced with REPLACEMENT CHARACTER.\n",
      "Some characters could not be decoded, and were replaced with REPLACEMENT CHARACTER.\n"
     ]
    },
    {
     "name": "stdout",
     "output_type": "stream",
     "text": [
      "Skipping https://cdnsm5-hosted.civiclive.com/UserFiles/Servers/Server_2375121/File/Stay/social_services/housing_services/guidelines_schedule_g_accessible_document.pdf due to request error: 403 Client Error: Forbidden for url: https://cdnsm5-hosted.civiclive.com/UserFiles/Servers/Server_2375121/File/Stay/social_services/housing_services/guidelines_schedule_g_accessible_document.pdf\n",
      "Skipping https://www.hudexchange.info/resource/5079/esg-income-limits/ due to request error: 404 Client Error: Not Found for url: https://www.hudexchange.info/resource/5079/esg-income-limits/\n",
      "Skipping https://www.kingston-ny.gov/news/?FeedID=1290 due to request error: 404 Client Error: Not Found for url: https://www.kingston-ny.gov/news/?FeedID=1290\n",
      "Skipping https://kingston-ny.gov/filestorage/8399/8469/8547/58358/Kingston_2024-2028_CP_Final_with_allocations_5.15.2024.pdf due to request error: 404 Client Error: Not Found for url: https://kingston-ny.gov/filestorage/8399/8469/8547/58358/Kingston_2024-2028_CP_Final_with_allocations_5.15.2024.pdf\n"
     ]
    },
    {
     "name": "stderr",
     "output_type": "stream",
     "text": [
      "Some characters could not be decoded, and were replaced with REPLACEMENT CHARACTER.\n"
     ]
    },
    {
     "name": "stdout",
     "output_type": "stream",
     "text": [
      "Skipping https://www.kingstonist.com/news/kingston-city-council-approves-funding-allocations-for-housing-homelessness-programs/ due to request error: 403 Client Error: Forbidden for url: https://www.kingstonist.com/news/kingston-city-council-approves-funding-allocations-for-housing-homelessness-programs/\n"
     ]
    },
    {
     "name": "stderr",
     "output_type": "stream",
     "text": [
      "Some characters could not be decoded, and were replaced with REPLACEMENT CHARACTER.\n",
      "Some characters could not be decoded, and were replaced with REPLACEMENT CHARACTER.\n"
     ]
    },
    {
     "name": "stdout",
     "output_type": "stream",
     "text": [
      "Skipping https://211ontario.ca/service/75740035/lambton-county-of-municipal-services-homelessness-prevention--childrens-services-department-child-care-subsidy/ due to request error: 403 Client Error: Forbidden for url: https://211ontario.ca/service/75740035/lambton-county-of-municipal-services-homelessness-prevention--childrens-services-department-child-care-subsidy/\n"
     ]
    },
    {
     "name": "stderr",
     "output_type": "stream",
     "text": [
      "Some characters could not be decoded, and were replaced with REPLACEMENT CHARACTER.\n"
     ]
    },
    {
     "name": "stdout",
     "output_type": "stream",
     "text": [
      "Skipping https://www.hcd.ca.gov/grants-and-funding/income-limits due to request error: 403 Client Error: Forbidden for url: https://www.hcd.ca.gov/grants-and-funding/income-limits\n"
     ]
    },
    {
     "name": "stderr",
     "output_type": "stream",
     "text": [
      "Some characters could not be decoded, and were replaced with REPLACEMENT CHARACTER.\n"
     ]
    },
    {
     "name": "stdout",
     "output_type": "stream",
     "text": [
      "Skipping https://www.hudexchange.info/resource/5079/esg-income-limits/ due to request error: 404 Client Error: Not Found for url: https://www.hudexchange.info/resource/5079/esg-income-limits/\n"
     ]
    },
    {
     "name": "stderr",
     "output_type": "stream",
     "text": [
      "Some characters could not be decoded, and were replaced with REPLACEMENT CHARACTER.\n"
     ]
    },
    {
     "name": "stdout",
     "output_type": "stream",
     "text": [
      "Skipping https://www.hcd.ca.gov/grants-and-funding/income-limits due to request error: 403 Client Error: Forbidden for url: https://www.hcd.ca.gov/grants-and-funding/income-limits\n"
     ]
    },
    {
     "name": "stderr",
     "output_type": "stream",
     "text": [
      "Some characters could not be decoded, and were replaced with REPLACEMENT CHARACTER.\n"
     ]
    },
    {
     "name": "stdout",
     "output_type": "stream",
     "text": [
      "Skipping https://www.hudexchange.info/resource/5079/esg-income-limits/ due to request error: 404 Client Error: Not Found for url: https://www.hudexchange.info/resource/5079/esg-income-limits/\n",
      "Skipping https://preventhomelessness.org/ due to request error: 403 Client Error: Forbidden for url: https://preventhomelessness.org/\n",
      "Skipping https://www.hudexchange.info/programs/coc/coc-program-eligibility-requirements/ due to request error: 404 Client Error: Not Found for url: https://www.hudexchange.info/programs/coc/coc-program-eligibility-requirements/\n",
      "Skipping https://www.hudexchange.info/resource/5079/esg-income-limits/ due to request error: 404 Client Error: Not Found for url: https://www.hudexchange.info/resource/5079/esg-income-limits/\n",
      "Skipping https://www.hudexchange.info/homelessness-assistance/coc-esg-virtual-binders/coc-esg-homeless-eligibility/four-categories/homeless-eligibility-requirements-by-coc-and-esg-program-model/ due to request error: 404 Client Error: Not Found for url: https://www.hudexchange.info/homelessness-assistance/coc-esg-virtual-binders/coc-esg-homeless-eligibility/four-categories/homeless-eligibility-requirements-by-coc-and-esg-program-model/\n"
     ]
    },
    {
     "name": "stderr",
     "output_type": "stream",
     "text": [
      "Some characters could not be decoded, and were replaced with REPLACEMENT CHARACTER.\n"
     ]
    },
    {
     "name": "stdout",
     "output_type": "stream",
     "text": [
      "Skipping https://lennox-addington.on.ca/resident-services/social-services/other-supports/ due to request error: 403 Client Error: Forbidden for url: https://lennox-addington.on.ca/resident-services/social-services/other-supports/\n",
      "Skipping https://www.ncsha.org/view/state-hfa-emergency-rental-assistance-program-matrix/article/homelessness-prevention-rapid-rehousing-hprr/?pagenum=2 due to request error: 403 Client Error: Forbidden for url: https://www.ncsha.org/view/state-hfa-emergency-rental-assistance-program-matrix/article/homelessness-prevention-rapid-rehousing-hprr/?pagenum=2\n"
     ]
    },
    {
     "name": "stderr",
     "output_type": "stream",
     "text": [
      "Some characters could not be decoded, and were replaced with REPLACEMENT CHARACTER.\n"
     ]
    },
    {
     "name": "stdout",
     "output_type": "stream",
     "text": [
      "Skipping https://www.hudexchange.info/resource/5079/esg-income-limits/ due to request error: 404 Client Error: Not Found for url: https://www.hudexchange.info/resource/5079/esg-income-limits/\n"
     ]
    },
    {
     "name": "stderr",
     "output_type": "stream",
     "text": [
      "Some characters could not be decoded, and were replaced with REPLACEMENT CHARACTER.\n"
     ]
    },
    {
     "name": "stdout",
     "output_type": "stream",
     "text": [
      "Skipping https://211ontario.ca/service/81820040/leeds-and-grenville-community-and-social-services-housing-allowances-and-benefits/?searchLocation=Cornwall&topicPath=64&latitude=45.0212762&longitude=-74.730345&l=T&agency=1 due to request error: 403 Client Error: Forbidden for url: https://211ontario.ca/service/81820040/leeds-and-grenville-community-and-social-services-housing-allowances-and-benefits/?searchLocation=Cornwall&topicPath=64&latitude=45.0212762&longitude=-74.730345&l=T&agency=1\n",
      "Skipping https://www.uwlg.org/urgent-needs-fund due to request error: 403 Client Error: Forbidden for url: https://www.uwlg.org/urgent-needs-fund\n"
     ]
    },
    {
     "name": "stderr",
     "output_type": "stream",
     "text": [
      "Some characters could not be decoded, and were replaced with REPLACEMENT CHARACTER.\n",
      "Some characters could not be decoded, and were replaced with REPLACEMENT CHARACTER.\n",
      "Some characters could not be decoded, and were replaced with REPLACEMENT CHARACTER.\n",
      "Some characters could not be decoded, and were replaced with REPLACEMENT CHARACTER.\n"
     ]
    },
    {
     "name": "stdout",
     "output_type": "stream",
     "text": [
      "Skipping https://london.ca/living-london/community-services/homeless-prevention-housing/community-housing due to request error: 403 Client Error: Forbidden for url: https://london.ca/living-london/community-services/homeless-prevention-housing/community-housing\n",
      "Skipping https://homelesshub.ca/sites/default/files/London's%20Homeless%20Prevention%20System%20Draft.pdf due to request error: 403 Client Error: Forbidden for url: https://homelesshub.ca/sites/default/files/London's%20Homeless%20Prevention%20System%20Draft.pdf\n",
      "Skipping https://london.ca/living-london/community-services/homeless-prevention-housing due to request error: 403 Client Error: Forbidden for url: https://london.ca/living-london/community-services/homeless-prevention-housing\n"
     ]
    },
    {
     "name": "stderr",
     "output_type": "stream",
     "text": [
      "Some characters could not be decoded, and were replaced with REPLACEMENT CHARACTER.\n"
     ]
    },
    {
     "name": "stdout",
     "output_type": "stream",
     "text": [
      "Skipping https://www.hudexchange.info/resource/5079/esg-income-limits/ due to request error: 404 Client Error: Not Found for url: https://www.hudexchange.info/resource/5079/esg-income-limits/\n",
      "Skipping https://endhomelessness.org/resources/toolkits-and-training-materials/housing-first/ due to request error: 403 Client Error: Forbidden for url: https://endhomelessness.org/resources/toolkits-and-training-materials/housing-first/\n",
      "Skipping https://211ontario.ca/service/65277470/manitoulin-sudbury-district-services-board-homelessness-prevention-program/ due to request error: 403 Client Error: Forbidden for url: https://211ontario.ca/service/65277470/manitoulin-sudbury-district-services-board-homelessness-prevention-program/\n"
     ]
    },
    {
     "name": "stderr",
     "output_type": "stream",
     "text": [
      "Some characters could not be decoded, and were replaced with REPLACEMENT CHARACTER.\n"
     ]
    },
    {
     "name": "stdout",
     "output_type": "stream",
     "text": [
      "Skipping https://211ontario.ca/results/?searchLocation=Greater+Sudbury&topicPath=112&latitude=46.4917317&longitude=-80.993029 due to request error: 403 Client Error: Forbidden for url: https://211ontario.ca/results/?searchLocation=Greater+Sudbury&topicPath=112&latitude=46.4917317&longitude=-80.993029\n",
      "Skipping https://brucegreycommunityinfo.search211.ca/detail/65277470/manitoulin-sudbury-district-services-board-homelessness-prevention-program/?searchLocation=Clearview&topicPath=151&latitude=45.345035&longitude=-80.033592&pg=7 due to request error: 403 Client Error: Forbidden for url: https://brucegreycommunityinfo.search211.ca/detail/65277470/manitoulin-sudbury-district-services-board-homelessness-prevention-program/?searchLocation=Clearview&topicPath=151&latitude=45.345035&longitude=-80.033592&pg=7\n",
      "Skipping https://211north.ca/results/?searchLocation=Sudbury&searchTerms=&latitude=46.49173169999999&longitude=-80.99302899999999&topicPath=103 due to request error: 403 Client Error: Forbidden for url: https://211north.ca/results/?searchLocation=Sudbury&searchTerms=&latitude=46.49173169999999&longitude=-80.99302899999999&topicPath=103\n",
      "Skipping https://www.muskoka.on.ca/en/housing/i-need-help-emergency-assistance-and-homelessness.aspx due to request error: HTTPSConnectionPool(host='www.muskoka.on.ca', port=443): Max retries exceeded with url: /en/housing/i-need-help-emergency-assistance-and-homelessness.aspx (Caused by SSLError(SSLError(1, '[SSL: DH_KEY_TOO_SMALL] dh key too small (_ssl.c:1028)')))\n",
      "Skipping https://www.muskoka.on.ca/en/housing/social-housing.aspx due to request error: HTTPSConnectionPool(host='www.muskoka.on.ca', port=443): Max retries exceeded with url: /en/housing/social-housing.aspx (Caused by SSLError(SSLError(1, '[SSL: DH_KEY_TOO_SMALL] dh key too small (_ssl.c:1028)')))\n",
      "Skipping https://www.hudexchange.info/resource/5079/esg-income-limits/ due to request error: 404 Client Error: Not Found for url: https://www.hudexchange.info/resource/5079/esg-income-limits/\n"
     ]
    },
    {
     "name": "stderr",
     "output_type": "stream",
     "text": [
      "Some characters could not be decoded, and were replaced with REPLACEMENT CHARACTER.\n",
      "Some characters could not be decoded, and were replaced with REPLACEMENT CHARACTER.\n",
      "Some characters could not be decoded, and were replaced with REPLACEMENT CHARACTER.\n",
      "Some characters could not be decoded, and were replaced with REPLACEMENT CHARACTER.\n"
     ]
    },
    {
     "name": "stdout",
     "output_type": "stream",
     "text": [
      "Skipping https://www.hudexchange.info/resource/5079/esg-income-limits/ due to request error: 404 Client Error: Not Found for url: https://www.hudexchange.info/resource/5079/esg-income-limits/\n"
     ]
    },
    {
     "name": "stderr",
     "output_type": "stream",
     "text": [
      "Some characters could not be decoded, and were replaced with REPLACEMENT CHARACTER.\n",
      "Some characters could not be decoded, and were replaced with REPLACEMENT CHARACTER.\n"
     ]
    },
    {
     "name": "stdout",
     "output_type": "stream",
     "text": [
      "Skipping https://211ontario.ca/service/71113379/northumberland-county-community-and-social-services-shelter-benefit/ due to request error: 403 Client Error: Forbidden for url: https://211ontario.ca/service/71113379/northumberland-county-community-and-social-services-shelter-benefit/\n",
      "Skipping https://www.thriveva.org/how-it-worksce1d64df due to request error: 403 Client Error: Forbidden for url: https://www.thriveva.org/how-it-worksce1d64df\n",
      "Skipping https://pub-northumberland.escribemeetings.com/filestream.ashx?DocumentId=7720 due to request error: 403 Client Error: Forbidden for url: https://pub-northumberland.escribemeetings.com/filestream.ashx?DocumentId=7720\n"
     ]
    },
    {
     "name": "stderr",
     "output_type": "stream",
     "text": [
      "Some characters could not be decoded, and were replaced with REPLACEMENT CHARACTER.\n",
      "Some characters could not be decoded, and were replaced with REPLACEMENT CHARACTER.\n",
      "Some characters could not be decoded, and were replaced with REPLACEMENT CHARACTER.\n"
     ]
    },
    {
     "name": "stdout",
     "output_type": "stream",
     "text": [
      "Skipping https://pub-niagararegion.escribemeetings.com/filestream.ashx?DocumentId=31083 due to request error: 403 Client Error: Forbidden for url: https://pub-niagararegion.escribemeetings.com/filestream.ashx?DocumentId=31083\n",
      "Skipping https://wnyhomeless.org/app/uploads/WrittenstandardwithCoordinatedentryprocedure.pdf due to request error: 404 Client Error: Not Found for url: https://wnyhomeless.org/app/uploads/WrittenstandardwithCoordinatedentryprocedure.pdf\n"
     ]
    },
    {
     "name": "stderr",
     "output_type": "stream",
     "text": [
      "Some characters could not be decoded, and were replaced with REPLACEMENT CHARACTER.\n",
      "Some characters could not be decoded, and were replaced with REPLACEMENT CHARACTER.\n"
     ]
    },
    {
     "name": "stdout",
     "output_type": "stream",
     "text": [
      "Skipping https://211ontario.ca/service/65310581/district-of-nipissing-social-services-administration-board-homelessness-prevention-program/ due to request error: 403 Client Error: Forbidden for url: https://211ontario.ca/service/65310581/district-of-nipissing-social-services-administration-board-homelessness-prevention-program/\n",
      "Skipping https://www.hudexchange.info/resource/5079/esg-income-limits/ due to request error: 404 Client Error: Not Found for url: https://www.hudexchange.info/resource/5079/esg-income-limits/\n"
     ]
    },
    {
     "name": "stderr",
     "output_type": "stream",
     "text": [
      "Some characters could not be decoded, and were replaced with REPLACEMENT CHARACTER.\n",
      "Some characters could not be decoded, and were replaced with REPLACEMENT CHARACTER.\n",
      "Some characters could not be decoded, and were replaced with REPLACEMENT CHARACTER.\n"
     ]
    },
    {
     "name": "stdout",
     "output_type": "stream",
     "text": [
      "Skipping https://www.hudexchange.info/resource/5079/esg-income-limits/ due to request error: 404 Client Error: Not Found for url: https://www.hudexchange.info/resource/5079/esg-income-limits/\n"
     ]
    },
    {
     "name": "stderr",
     "output_type": "stream",
     "text": [
      "Some characters could not be decoded, and were replaced with REPLACEMENT CHARACTER.\n"
     ]
    },
    {
     "name": "stdout",
     "output_type": "stream",
     "text": [
      "Skipping https://development.ohio.gov/community/housing-and-homelessness/homeless-crisis-response-program due to request error: 404 Client Error: Not Found for url: https://development.ohio.gov/community/housing-and-homelessness/homeless-crisis-response-program\n"
     ]
    },
    {
     "name": "stderr",
     "output_type": "stream",
     "text": [
      "Some characters could not be decoded, and were replaced with REPLACEMENT CHARACTER.\n"
     ]
    },
    {
     "name": "stdout",
     "output_type": "stream",
     "text": [
      "Skipping https://pub-ottawa.escribemeetings.com/filestream.ashx?DocumentId=127898 due to request error: 403 Client Error: Forbidden for url: https://pub-ottawa.escribemeetings.com/filestream.ashx?DocumentId=127898\n"
     ]
    },
    {
     "name": "stderr",
     "output_type": "stream",
     "text": [
      "Some characters could not be decoded, and were replaced with REPLACEMENT CHARACTER.\n"
     ]
    },
    {
     "name": "stdout",
     "output_type": "stream",
     "text": [
      "Skipping https://pub-ottawa.escribemeetings.com/filestream.ashx?DocumentId=230518 due to request error: 403 Client Error: Forbidden for url: https://pub-ottawa.escribemeetings.com/filestream.ashx?DocumentId=230518\n"
     ]
    },
    {
     "name": "stderr",
     "output_type": "stream",
     "text": [
      "Some characters could not be decoded, and were replaced with REPLACEMENT CHARACTER.\n",
      "Some characters could not be decoded, and were replaced with REPLACEMENT CHARACTER.\n",
      "Some characters could not be decoded, and were replaced with REPLACEMENT CHARACTER.\n"
     ]
    },
    {
     "name": "stdout",
     "output_type": "stream",
     "text": [
      "Skipping https://www.hudexchange.info/resource/5079/esg-income-limits/ due to request error: 404 Client Error: Not Found for url: https://www.hudexchange.info/resource/5079/esg-income-limits/\n",
      "Skipping https://www.hudexchange.info/homelessness-assistance/coc-esg-virtual-binders/coc-esg-homeless-eligibility/four-categories/category-1/ due to request error: 404 Client Error: Not Found for url: https://www.hudexchange.info/homelessness-assistance/coc-esg-virtual-binders/coc-esg-homeless-eligibility/four-categories/category-1/\n",
      "Skipping https://www.findhelp.org/housing/help-pay-for-housing--north-oxford-ma?postal=01537 due to request error: 403 Client Error: Forbidden for url: https://www.findhelp.org/housing/help-pay-for-housing--north-oxford-ma?postal=01537\n",
      "Skipping https://www.findhelp.org/family-promise-of-warren-county-%2528fpwc%2529--oxford-nj--homeless-prevention-program-%2528hpp%2529/4727080290484224?postal=07863 due to request error: 403 Client Error: Forbidden for url: https://www.findhelp.org/family-promise-of-warren-county-%2528fpwc%2529--oxford-nj--homeless-prevention-program-%2528hpp%2529/4727080290484224?postal=07863\n",
      "Skipping https://usich.gov/sites/default/files/document/Federal%20Homelessness%20Prevention%20Framework_2.pdf due to request error: 403 Client Error: Forbidden for url: https://usich.gov/sites/default/files/document/Federal%20Homelessness%20Prevention%20Framework_2.pdf\n"
     ]
    },
    {
     "name": "stderr",
     "output_type": "stream",
     "text": [
      "Some characters could not be decoded, and were replaced with REPLACEMENT CHARACTER.\n"
     ]
    },
    {
     "name": "stdout",
     "output_type": "stream",
     "text": [
      "Skipping https://211ontario.ca/service/76514182/district-of-parry-sound-social-services-administration-board-income-support--stability/?searchLocation=Peterborough&topicPath=112&latitude=44.3047061&longitude=-78.3199606&pg=7 due to request error: 403 Client Error: Forbidden for url: https://211ontario.ca/service/76514182/district-of-parry-sound-social-services-administration-board-income-support--stability/?searchLocation=Peterborough&topicPath=112&latitude=44.3047061&longitude=-78.3199606&pg=7\n"
     ]
    },
    {
     "name": "stderr",
     "output_type": "stream",
     "text": [
      "Some characters could not be decoded, and were replaced with REPLACEMENT CHARACTER.\n",
      "Some characters could not be decoded, and were replaced with REPLACEMENT CHARACTER.\n"
     ]
    },
    {
     "name": "stdout",
     "output_type": "stream",
     "text": [
      "Skipping https://www.hudexchange.info/resource/5079/esg-income-limits/ due to request error: 404 Client Error: Not Found for url: https://www.hudexchange.info/resource/5079/esg-income-limits/\n"
     ]
    },
    {
     "name": "stderr",
     "output_type": "stream",
     "text": [
      "Some characters could not be decoded, and were replaced with REPLACEMENT CHARACTER.\n",
      "Some characters could not be decoded, and were replaced with REPLACEMENT CHARACTER.\n"
     ]
    },
    {
     "name": "stdout",
     "output_type": "stream",
     "text": [
      "Skipping https://pub-peelregion.escribemeetings.com/filestream.ashx?DocumentId=26700 due to request error: 403 Client Error: Forbidden for url: https://pub-peelregion.escribemeetings.com/filestream.ashx?DocumentId=26700\n"
     ]
    },
    {
     "name": "stderr",
     "output_type": "stream",
     "text": [
      "Some characters could not be decoded, and were replaced with REPLACEMENT CHARACTER.\n"
     ]
    },
    {
     "name": "stdout",
     "output_type": "stream",
     "text": [
      "Skipping https://pub-peelregion.escribemeetings.com/filestream.ashx?DocumentId=30714 due to request error: 403 Client Error: Forbidden for url: https://pub-peelregion.escribemeetings.com/filestream.ashx?DocumentId=30714\n",
      "Skipping https://www.hudexchange.info/resource/5079/esg-income-limits/ due to request error: 404 Client Error: Not Found for url: https://www.hudexchange.info/resource/5079/esg-income-limits/\n"
     ]
    },
    {
     "name": "stderr",
     "output_type": "stream",
     "text": [
      "Some characters could not be decoded, and were replaced with REPLACEMENT CHARACTER.\n",
      "Some characters could not be decoded, and were replaced with REPLACEMENT CHARACTER.\n"
     ]
    },
    {
     "name": "stdout",
     "output_type": "stream",
     "text": [
      "Skipping https://pub-peterborough.escribemeetings.com/filestream.ashx?DocumentId=16388 due to request error: 403 Client Error: Forbidden for url: https://pub-peterborough.escribemeetings.com/filestream.ashx?DocumentId=16388\n",
      "Skipping https://pub-peterborough.escribemeetings.com/filestream.ashx?DocumentId=31022 due to request error: 403 Client Error: Forbidden for url: https://pub-peterborough.escribemeetings.com/filestream.ashx?DocumentId=31022\n",
      "Skipping https://en.prescott-russell.on.ca/stay/social_services/housing_services due to request error: 403 Client Error: Forbidden for url: https://en.prescott-russell.on.ca/stay/social_services/housing_services\n",
      "Skipping https://www.hudexchange.info/resource/5079/esg-income-limits/ due to request error: 404 Client Error: Not Found for url: https://www.hudexchange.info/resource/5079/esg-income-limits/\n",
      "Skipping https://cdnsm5-hosted.civiclive.com/UserFiles/Servers/Server_2375121/File/Stay/social_services/housing_services/2023_annual_report_housing_and_homelessness_plan_accessible_document.pdf due to request error: 403 Client Error: Forbidden for url: https://cdnsm5-hosted.civiclive.com/UserFiles/Servers/Server_2375121/File/Stay/social_services/housing_services/2023_annual_report_housing_and_homelessness_plan_accessible_document.pdf\n"
     ]
    },
    {
     "name": "stderr",
     "output_type": "stream",
     "text": [
      "Some characters could not be decoded, and were replaced with REPLACEMENT CHARACTER.\n",
      "Some characters could not be decoded, and were replaced with REPLACEMENT CHARACTER.\n"
     ]
    },
    {
     "name": "stdout",
     "output_type": "stream",
     "text": [
      "Skipping https://211ontario.ca/service/68959790/prescott-and-russell-social-services-housing-assistance-funds/ due to request error: 403 Client Error: Forbidden for url: https://211ontario.ca/service/68959790/prescott-and-russell-social-services-housing-assistance-funds/\n",
      "Skipping https://cdnsm5-hosted.civiclive.com/UserFiles/Servers/Server_2375121/File/Stay/social_services/housing_services/2022_annual_report_housing_and_homelessness_plan_accessible_document.pdf due to request error: 403 Client Error: Forbidden for url: https://cdnsm5-hosted.civiclive.com/UserFiles/Servers/Server_2375121/File/Stay/social_services/housing_services/2022_annual_report_housing_and_homelessness_plan_accessible_document.pdf\n",
      "Skipping https://www.prescott-russell.on.ca/cms/One.aspx?portalId=16106179&pageId=16513814 due to request error: 403 Client Error: Forbidden for url: https://www.prescott-russell.on.ca/cms/One.aspx?portalId=16106179&pageId=16513814\n",
      "Skipping https://www.hcd.ca.gov/docs/grants-and-funding/ca-hcd-esg-homelessness-eligibility-policy-508c.pdf due to request error: 403 Client Error: Forbidden for url: https://www.hcd.ca.gov/docs/grants-and-funding/ca-hcd-esg-homelessness-eligibility-policy-508c.pdf\n"
     ]
    },
    {
     "name": "stderr",
     "output_type": "stream",
     "text": [
      "Some characters could not be decoded, and were replaced with REPLACEMENT CHARACTER.\n",
      "Some characters could not be decoded, and were replaced with REPLACEMENT CHARACTER.\n"
     ]
    },
    {
     "name": "stdout",
     "output_type": "stream",
     "text": [
      "Skipping https://www.hudexchange.info/resource/5079/esg-income-limits/ due to request error: 404 Client Error: Not Found for url: https://www.hudexchange.info/resource/5079/esg-income-limits/\n"
     ]
    },
    {
     "name": "stderr",
     "output_type": "stream",
     "text": [
      "Some characters could not be decoded, and were replaced with REPLACEMENT CHARACTER.\n",
      "Some characters could not be decoded, and were replaced with REPLACEMENT CHARACTER.\n",
      "Some characters could not be decoded, and were replaced with REPLACEMENT CHARACTER.\n",
      "Some characters could not be decoded, and were replaced with REPLACEMENT CHARACTER.\n",
      "Some characters could not be decoded, and were replaced with REPLACEMENT CHARACTER.\n"
     ]
    },
    {
     "name": "stdout",
     "output_type": "stream",
     "text": [
      "Skipping https://211ontario.ca/service/77129702/county-of-renfrew-municipal-corporation-ontario-works-homelessness-prevention-program/ due to request error: 403 Client Error: Forbidden for url: https://211ontario.ca/service/77129702/county-of-renfrew-municipal-corporation-ontario-works-homelessness-prevention-program/\n"
     ]
    },
    {
     "name": "stderr",
     "output_type": "stream",
     "text": [
      "Some characters could not be decoded, and were replaced with REPLACEMENT CHARACTER.\n"
     ]
    },
    {
     "name": "stdout",
     "output_type": "stream",
     "text": [
      "Skipping https://www.hudexchange.info/resource/5079/esg-income-limits/ due to request error: 404 Client Error: Not Found for url: https://www.hudexchange.info/resource/5079/esg-income-limits/\n"
     ]
    },
    {
     "name": "stderr",
     "output_type": "stream",
     "text": [
      "Some characters could not be decoded, and were replaced with REPLACEMENT CHARACTER.\n",
      "Some characters could not be decoded, and were replaced with REPLACEMENT CHARACTER.\n"
     ]
    },
    {
     "name": "stdout",
     "output_type": "stream",
     "text": [
      "Skipping https://www.pembrokeobserver.com/news/local-news/ontario-increasing-support-for-homelessness-prevention-in-renfrew-county due to request error: 403 Client Error: Forbidden for url: https://www.pembrokeobserver.com/news/local-news/ontario-increasing-support-for-homelessness-prevention-in-renfrew-county\n",
      "Skipping https://www.hudexchange.info/resource/5079/esg-income-limits/ due to request error: 404 Client Error: Not Found for url: https://www.hudexchange.info/resource/5079/esg-income-limits/\n"
     ]
    },
    {
     "name": "stderr",
     "output_type": "stream",
     "text": [
      "Some characters could not be decoded, and were replaced with REPLACEMENT CHARACTER.\n"
     ]
    },
    {
     "name": "stdout",
     "output_type": "stream",
     "text": [
      "Skipping https://www.empowersimcoe.ca/housing-supports/housing-first/ due to request error: 403 Client Error: Forbidden for url: https://www.empowersimcoe.ca/housing-supports/housing-first/\n"
     ]
    },
    {
     "name": "stderr",
     "output_type": "stream",
     "text": [
      "Some characters could not be decoded, and were replaced with REPLACEMENT CHARACTER.\n"
     ]
    },
    {
     "name": "stdout",
     "output_type": "stream",
     "text": [
      "Skipping https://www.hudexchange.info/programs/coc/coc-program-eligibility-requirements/ due to request error: 404 Client Error: Not Found for url: https://www.hudexchange.info/programs/coc/coc-program-eligibility-requirements/\n",
      "Skipping https://www.hudexchange.info/resource/5079/esg-income-limits/ due to request error: 404 Client Error: Not Found for url: https://www.hudexchange.info/resource/5079/esg-income-limits/\n"
     ]
    },
    {
     "name": "stderr",
     "output_type": "stream",
     "text": [
      "Some characters could not be decoded, and were replaced with REPLACEMENT CHARACTER.\n",
      "Some characters could not be decoded, and were replaced with REPLACEMENT CHARACTER.\n",
      "Some characters could not be decoded, and were replaced with REPLACEMENT CHARACTER.\n",
      "Some characters could not be decoded, and were replaced with REPLACEMENT CHARACTER.\n"
     ]
    },
    {
     "name": "stdout",
     "output_type": "stream",
     "text": [
      "Skipping https://211ontario.ca/service/65310466/district-of-sault-ste-marie-social-services-administration-board-community-homelessness-prevention-initiative/ due to request error: 403 Client Error: Forbidden for url: https://211ontario.ca/service/65310466/district-of-sault-ste-marie-social-services-administration-board-community-homelessness-prevention-initiative/\n"
     ]
    },
    {
     "name": "stderr",
     "output_type": "stream",
     "text": [
      "Some characters could not be decoded, and were replaced with REPLACEMENT CHARACTER.\n",
      "Some characters could not be decoded, and were replaced with REPLACEMENT CHARACTER.\n",
      "Some characters could not be decoded, and were replaced with REPLACEMENT CHARACTER.\n"
     ]
    },
    {
     "name": "stdout",
     "output_type": "stream",
     "text": [
      "Skipping https://pub-greatersudbury.escribemeetings.com/filestream.ashx?documentid=6884 due to request error: 403 Client Error: Forbidden for url: https://pub-greatersudbury.escribemeetings.com/filestream.ashx?documentid=6884\n",
      "Skipping https://pub-greatersudbury.escribemeetings.com/filestream.ashx?DocumentId=43739 due to request error: 403 Client Error: Forbidden for url: https://pub-greatersudbury.escribemeetings.com/filestream.ashx?DocumentId=43739\n",
      "Skipping https://211ontario.ca/results/?searchLocation=Greater+Sudbury&topicPath=112&latitude=46.4917317&longitude=-80.993029 due to request error: 403 Client Error: Forbidden for url: https://211ontario.ca/results/?searchLocation=Greater+Sudbury&topicPath=112&latitude=46.4917317&longitude=-80.993029\n"
     ]
    },
    {
     "name": "stderr",
     "output_type": "stream",
     "text": [
      "Some characters could not be decoded, and were replaced with REPLACEMENT CHARACTER.\n"
     ]
    },
    {
     "name": "stdout",
     "output_type": "stream",
     "text": [
      "Skipping https://211ontario.ca/service/65277470/manitoulin-sudbury-district-services-board-homelessness-prevention-program/ due to request error: 403 Client Error: Forbidden for url: https://211ontario.ca/service/65277470/manitoulin-sudbury-district-services-board-homelessness-prevention-program/\n",
      "Skipping https://cdnsm5-hosted.civiclive.com/UserFiles/Servers/Server_12189721/File/Living%20Here/St.%20Thomas%20Elgin%20Social%20Services/List%20of%20Programs/HeLP%20Factsheet.pdf due to request error: 403 Client Error: Forbidden for url: https://cdnsm5-hosted.civiclive.com/UserFiles/Servers/Server_12189721/File/Living%20Here/St.%20Thomas%20Elgin%20Social%20Services/List%20of%20Programs/HeLP%20Factsheet.pdf\n",
      "Skipping https://www.stthomas.ca/living_here/st_thomas_elgin_social_services/housing_and_homelessness_services due to request error: 403 Client Error: Forbidden for url: https://www.stthomas.ca/living_here/st_thomas_elgin_social_services/housing_and_homelessness_services\n",
      "Skipping https://stthomas.hosted.civiclive.com/cms/one.aspx?portalid=12189805&pageid=16794721 due to request error: 403 Client Error: Forbidden for url: https://stthomas.hosted.civiclive.com/cms/one.aspx?portalid=12189805&pageid=16794721\n",
      "Skipping https://www.hudexchange.info/resource/5079/esg-income-limits/ due to request error: 404 Client Error: Not Found for url: https://www.hudexchange.info/resource/5079/esg-income-limits/\n",
      "Skipping https://www.stthomas.ca/living_here/st_thomas_elgin_social_services/ontario_works_program/qualifying_for_financial_assistance due to request error: 403 Client Error: Forbidden for url: https://www.stthomas.ca/living_here/st_thomas_elgin_social_services/ontario_works_program/qualifying_for_financial_assistance\n",
      "Skipping https://stthomas.hosted.civiclive.com/living_here/st_thomas_elgin_social_services/housing_and_homelessness_services/housing_application_form due to request error: 403 Client Error: Forbidden for url: https://stthomas.hosted.civiclive.com/living_here/st_thomas_elgin_social_services/housing_and_homelessness_services/housing_application_form\n",
      "Skipping https://cdnsm5-hosted.civiclive.com/UserFiles/Servers/Server_12189721/File/Living%20Here/St.%20Thomas%20Elgin%20Social%20Services/Social%20Housing/St%20Thomas_Elgin%20County%20Needs%20Assessment%20Final%20Copy.pdf due to request error: 403 Client Error: Forbidden for url: https://cdnsm5-hosted.civiclive.com/UserFiles/Servers/Server_12189721/File/Living%20Here/St.%20Thomas%20Elgin%20Social%20Services/Social%20Housing/St%20Thomas_Elgin%20County%20Needs%20Assessment%20Final%20Copy.pdf\n"
     ]
    },
    {
     "name": "stderr",
     "output_type": "stream",
     "text": [
      "Some characters could not be decoded, and were replaced with REPLACEMENT CHARACTER.\n",
      "Some characters could not be decoded, and were replaced with REPLACEMENT CHARACTER.\n",
      "Some characters could not be decoded, and were replaced with REPLACEMENT CHARACTER.\n",
      "Some characters could not be decoded, and were replaced with REPLACEMENT CHARACTER.\n",
      "Some characters could not be decoded, and were replaced with REPLACEMENT CHARACTER.\n"
     ]
    },
    {
     "name": "stdout",
     "output_type": "stream",
     "text": [
      "Skipping https://www.hudexchange.info/resource/5079/esg-income-limits/ due to request error: 404 Client Error: Not Found for url: https://www.hudexchange.info/resource/5079/esg-income-limits/\n",
      "Skipping https://www.hcd.ca.gov/grants-and-funding/income-limits due to request error: 403 Client Error: Forbidden for url: https://www.hcd.ca.gov/grants-and-funding/income-limits\n"
     ]
    },
    {
     "name": "stderr",
     "output_type": "stream",
     "text": [
      "Some characters could not be decoded, and were replaced with REPLACEMENT CHARACTER.\n",
      "Some characters could not be decoded, and were replaced with REPLACEMENT CHARACTER.\n",
      "Some characters could not be decoded, and were replaced with REPLACEMENT CHARACTER.\n",
      "Some characters could not be decoded, and were replaced with REPLACEMENT CHARACTER.\n",
      "Some characters could not be decoded, and were replaced with REPLACEMENT CHARACTER.\n",
      "Some characters could not be decoded, and were replaced with REPLACEMENT CHARACTER.\n"
     ]
    },
    {
     "name": "stdout",
     "output_type": "stream",
     "text": [
      "Skipping https://homelesshub.ca/community_profile/toronto/ due to request error: 403 Client Error: Forbidden for url: https://homelesshub.ca/community_profile/toronto/\n"
     ]
    },
    {
     "name": "stderr",
     "output_type": "stream",
     "text": [
      "Some characters could not be decoded, and were replaced with REPLACEMENT CHARACTER.\n"
     ]
    },
    {
     "name": "stdout",
     "output_type": "stream",
     "text": [
      "Skipping https://homelesshub.ca/community_profile/waterloo-region/ due to request error: 403 Client Error: Forbidden for url: https://homelesshub.ca/community_profile/waterloo-region/\n"
     ]
    },
    {
     "name": "stderr",
     "output_type": "stream",
     "text": [
      "Some characters could not be decoded, and were replaced with REPLACEMENT CHARACTER.\n"
     ]
    },
    {
     "name": "stdout",
     "output_type": "stream",
     "text": [
      "Skipping https://www.hudexchange.info/resource/5079/esg-income-limits/ due to request error: 404 Client Error: Not Found for url: https://www.hudexchange.info/resource/5079/esg-income-limits/\n",
      "Skipping https://waterloo.211centralsouth.ca/detail/65310581/?topicPath=50&latitude=45.48796&longitude=-77.676193 due to request error: 403 Client Error: Forbidden for url: https://waterloo.211centralsouth.ca/detail/65310581/?topicPath=50&latitude=45.48796&longitude=-77.676193\n"
     ]
    },
    {
     "name": "stderr",
     "output_type": "stream",
     "text": [
      "Some characters could not be decoded, and were replaced with REPLACEMENT CHARACTER.\n"
     ]
    },
    {
     "name": "stdout",
     "output_type": "stream",
     "text": [
      "Skipping https://www.homelesshub.ca/sites/default/files/attachments/DOCS_ADMINCHPI_Update.pdf due to request error: 403 Client Error: Forbidden for url: https://www.homelesshub.ca/sites/default/files/attachments/DOCS_ADMINCHPI_Update.pdf\n"
     ]
    },
    {
     "name": "stderr",
     "output_type": "stream",
     "text": [
      "Some characters could not be decoded, and were replaced with REPLACEMENT CHARACTER.\n",
      "Some characters could not be decoded, and were replaced with REPLACEMENT CHARACTER.\n"
     ]
    },
    {
     "name": "stdout",
     "output_type": "stream",
     "text": [
      "Skipping https://211ontario.ca/service/71896353/wellington-county-of-social-services-housing-services/ due to request error: 403 Client Error: Forbidden for url: https://211ontario.ca/service/71896353/wellington-county-of-social-services-housing-services/\n"
     ]
    },
    {
     "name": "stderr",
     "output_type": "stream",
     "text": [
      "Some characters could not be decoded, and were replaced with REPLACEMENT CHARACTER.\n"
     ]
    },
    {
     "name": "stdout",
     "output_type": "stream",
     "text": [
      "Skipping https://www.hudexchange.info/resource/5079/esg-income-limits/ due to request error: 404 Client Error: Not Found for url: https://www.hudexchange.info/resource/5079/esg-income-limits/\n",
      "Skipping https://www.wellingtonfl.gov/1014 due to request error: 403 Client Error: Forbidden for url: https://www.wellingtonfl.gov/1014\n"
     ]
    },
    {
     "name": "stderr",
     "output_type": "stream",
     "text": [
      "Some characters could not be decoded, and were replaced with REPLACEMENT CHARACTER.\n"
     ]
    },
    {
     "name": "stdout",
     "output_type": "stream",
     "text": [
      "Skipping https://www.hudexchange.info/resource/5079/esg-income-limits/ due to request error: 404 Client Error: Not Found for url: https://www.hudexchange.info/resource/5079/esg-income-limits/\n",
      "Skipping https://coe-pub.escribemeetings.com/filestream.ashx?DocumentId=21258 due to request error: 403 Client Error: Forbidden for url: https://coe-pub.escribemeetings.com/filestream.ashx?DocumentId=21258\n",
      "Skipping https://www.uwca.org/impact/homelessness-prevention/ due to request error: 403 Client Error: Forbidden for url: https://www.uwca.org/impact/homelessness-prevention/\n",
      "Skipping https://www.cbc.ca/news/canada/windsor/windsor-has-a-rent-program-that-helps-keep-people-housed-its-budget-is-up-300-since-2022-1.7319227 due to request error: HTTPSConnectionPool(host='www.cbc.ca', port=443): Read timed out. (read timeout=10)\n"
     ]
    },
    {
     "name": "stderr",
     "output_type": "stream",
     "text": [
      "Some characters could not be decoded, and were replaced with REPLACEMENT CHARACTER.\n"
     ]
    },
    {
     "name": "stdout",
     "output_type": "stream",
     "text": [
      "Skipping https://yorkpublishing.escribemeetings.com/filestream.ashx?DocumentId=18215 due to request error: 403 Client Error: Forbidden for url: https://yorkpublishing.escribemeetings.com/filestream.ashx?DocumentId=18215\n"
     ]
    }
   ],
   "source": [
    "#This code grabs the links in the all_results dictionary and uses beautiful soup to extract elements of the html\n",
    "\n",
    "article_details = []\n",
    "\n",
    "for location in all_results:\n",
    "    results = all_results.get(location, [])\n",
    "\n",
    "    for article in results:\n",
    "        link = article['link']\n",
    "        \n",
    "        try:\n",
    "            response = requests.get(link, timeout=10)\n",
    "            response.raise_for_status()\n",
    "        except requests.exceptions.RequestException as e:\n",
    "            print(f\"Skipping {link} due to request error: {e}\")\n",
    "            continue\n",
    "\n",
    "        #if the response is successful stores the html in the soup variable\n",
    "        soup = BeautifulSoup(response.content, 'html.parser')\n",
    "\n",
    "        #This extracts all the paragraph text with the html tag p\n",
    "        paragraphs = soup.find_all('p')\n",
    "        text = \"\\n\".join([p.get_text() for p in paragraphs])\n",
    "\n",
    "        #This extracts any elements of any tables and grabs the text\n",
    "        tables = soup.find_all('table')\n",
    "        table_texts = []\n",
    "        for table in tables:\n",
    "            rows = table.find_all('tr')\n",
    "            table_data = []\n",
    "            for row in rows:\n",
    "                cols = row.find_all(['td', 'th'])\n",
    "                col_texts = [col.get_text(strip=True) for col in cols]\n",
    "                table_data.append('\\t'.join(col_texts))\n",
    "            table_texts.append('\\n'.join(table_data))\n",
    "\n",
    "        all_table_text = '\\n\\n'.join(table_texts)\n",
    "\n",
    "        #This appends the location, link and extracted text from the beautiful soup html parser\n",
    "        article_details.append({\n",
    "            'location': location,\n",
    "            'link': link,\n",
    "            'text': text,\n",
    "            'tables': all_table_text if all_table_text else None\n",
    "        })\n"
   ]
  },
  {
   "cell_type": "code",
   "execution_count": null,
   "id": "05d7e586",
   "metadata": {},
   "outputs": [],
   "source": [
    "#This saves the article_details to a JSON file which you can use with the Ollama_LLM_Parse to parse the data\n",
    "\n",
    "\n",
    "with open('hpp10r.json', 'w', encoding='utf-8') as f:\n",
    "    json.dump(article_details, f, indent=4, ensure_ascii=False)"
   ]
  }
 ],
 "metadata": {
  "kernelspec": {
   "display_name": "Python 3",
   "language": "python",
   "name": "python3"
  },
  "language_info": {
   "codemirror_mode": {
    "name": "ipython",
    "version": 3
   },
   "file_extension": ".py",
   "mimetype": "text/x-python",
   "name": "python",
   "nbconvert_exporter": "python",
   "pygments_lexer": "ipython3",
   "version": "3.13.3"
  }
 },
 "nbformat": 4,
 "nbformat_minor": 5
}
