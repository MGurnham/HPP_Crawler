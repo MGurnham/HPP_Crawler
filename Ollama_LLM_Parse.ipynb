{
 "cells": [
  {
   "cell_type": "code",
   "execution_count": 1,
   "id": "6f04631b",
   "metadata": {},
   "outputs": [],
   "source": [
    "import requests\n",
    "import json\n",
    "from bs4 import BeautifulSoup\n",
    "import re\n",
    "import pandas as pd"
   ]
  },
  {
   "cell_type": "code",
   "execution_count": 2,
   "id": "7bec7d53",
   "metadata": {},
   "outputs": [],
   "source": [
    "OLLAMA_API_URL = \"http://localhost:11434/v1/chat/completions\"  # Default Ollama API URL"
   ]
  },
  {
   "cell_type": "code",
   "execution_count": 3,
   "id": "ff5bc32c",
   "metadata": {},
   "outputs": [],
   "source": [
    "#This function defines what you want to ask OLLAMA to do with your html output from the other script make sure you have loaded the correct model from OLLAMA\n",
    "\n",
    "def info(article_text, article_tables): \n",
    "    full_content = article_text.strip()\n",
    "    \n",
    "    \n",
    "    if article_tables:\n",
    "        full_content += \"\\n\\n--- TABLES ---\\n\"\n",
    "        full_content += article_tables.strip()\n",
    "\n",
    "    #this is the promt for OLLAMA can be edited to whatever you want to ask \n",
    "    prompt = (\n",
    "        \"From the following article, extract the income eligibility limits (if mentioned) for the Homelessness Prevention Program. \"\n",
    "        \"Be concise and quote the source if possible.\\n\\n\"\n",
    "        \"--- ARTICLE START ---\\n\"\n",
    "        f\"{full_content}\\n\"\n",
    "        \"--- ARTICLE END ---\\n\\n\"\n",
    "        \"What are the income eligibility limits for this program?\"\n",
    "    )\n",
    "\n",
    "    #MAKE SURE THE MODEL MATCHES THE MODEL YOU ARE USING\n",
    "    payload = {\n",
    "        \"model\": \"llama2\",\n",
    "        \"messages\": [\n",
    "            {\"role\": \"user\", \"content\": prompt}\n",
    "        ]\n",
    "    }\n",
    "\n",
    "    headers = {\n",
    "        \"Content-Type\": \"application/json\"\n",
    "    }\n",
    "\n",
    "    response = requests.post(OLLAMA_API_URL, json=payload, headers=headers)\n",
    "\n",
    "    if response.status_code == 200:\n",
    "        result = response.json()\n",
    "        return result['choices'][0]['message']['content'].strip()\n",
    "    else:\n",
    "        print(f\"Error: {response.status_code} - {response.text}\")\n",
    "        return None\n"
   ]
  },
  {
   "cell_type": "code",
   "execution_count": null,
   "id": "27136cae",
   "metadata": {},
   "outputs": [],
   "source": [
    "#THIS TAKES LIKE AN HOUR TO RUN DEPENDING ON HOW MANY RESULTS YOU HAVE\n",
    "#Load your JSON that you created with the income limits crawler, replace the file path with your json file\n",
    "with open(\"C:\\\\Users\\\\mt886\\\\OneDrive\\\\Documents\\\\GitHub\\\\HPP_Crawler\\\\hpp10r.json\", 'r', encoding='utf-8') as file:\n",
    "    articles = json.load(file)\n",
    "\n",
    "#Empty list to store the data\n",
    "article_data = []\n",
    "\n",
    "#grab the elements you want\n",
    "for article in articles:\n",
    "    article_text = article.get(\"text\")\n",
    "    article_url = article.get(\"link\")\n",
    "    article_location = article.get(\"location\")\n",
    "    article_tables = article.get(\"tables\")  \n",
    "\n",
    "    if article_text:\n",
    "        #Runs the function to get OLLAMA to parse the text and tables\n",
    "        info_you_want = info(article_text,article_tables)\n",
    "\n",
    "        #Store the data\n",
    "        data_entry = {\n",
    "            \"location\": article_location,\n",
    "            \"url\": article_url,\n",
    "            \"limits\": info_you_want\n",
    "        }\n",
    "\n",
    "        \n",
    "        if article_tables:\n",
    "            data_entry[\"tables\"] = article_tables\n",
    "\n",
    "        article_data.append(data_entry)"
   ]
  },
  {
   "cell_type": "code",
   "execution_count": 5,
   "id": "b6b86014",
   "metadata": {},
   "outputs": [],
   "source": [
    "#save LLM Processed info\n",
    "\n",
    "with open('hppincomellm.json', 'w', encoding='utf-8') as f:\n",
    "    json.dump(article_data, f, indent=4, ensure_ascii=False)"
   ]
  },
  {
   "cell_type": "code",
   "execution_count": 6,
   "id": "31616955",
   "metadata": {},
   "outputs": [],
   "source": [
    "#This code just save a version without all the table text\n",
    "\n",
    "# Step 1: Load the JSON file\n",
    "with open('hppincomellm.json', 'r', encoding='utf-8') as file:\n",
    "    data = json.load(file)\n",
    "\n",
    "\n",
    "for item in data:\n",
    "    if isinstance(item, dict):  \n",
    "        item.pop('tables', None)  \n",
    "\n",
    "\n",
    "with open('hppincomellmnotables.json', 'w', encoding='utf-8') as file:\n",
    "    json.dump(data, file, indent=4)\n"
   ]
  }
 ],
 "metadata": {
  "kernelspec": {
   "display_name": "Python 3",
   "language": "python",
   "name": "python3"
  },
  "language_info": {
   "codemirror_mode": {
    "name": "ipython",
    "version": 3
   },
   "file_extension": ".py",
   "mimetype": "text/x-python",
   "name": "python",
   "nbconvert_exporter": "python",
   "pygments_lexer": "ipython3",
   "version": "3.13.3"
  }
 },
 "nbformat": 4,
 "nbformat_minor": 5
}
